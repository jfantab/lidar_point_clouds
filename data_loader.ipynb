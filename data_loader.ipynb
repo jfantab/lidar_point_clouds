{
 "cells": [
  {
   "cell_type": "code",
   "execution_count": null,
   "id": "2375e16d-e298-42b5-bb95-bd80f2506574",
   "metadata": {},
   "outputs": [],
   "source": [
    "!cd data"
   ]
  },
  {
   "cell_type": "markdown",
   "id": "a53af015-4a06-480c-a134-bbf77b8563da",
   "metadata": {},
   "source": [
    "# Object Detection Dataset"
   ]
  },
  {
   "cell_type": "markdown",
   "id": "2c932fd9-58fb-46d1-bab8-bc95ef89744c",
   "metadata": {},
   "source": [
    "There are over 7000 instances for training and test datasets here, so I don't recommend running this on your local machine."
   ]
  },
  {
   "cell_type": "markdown",
   "id": "2751ca39-d6b0-4e84-8a65-b51769fcf2d9",
   "metadata": {},
   "source": [
    "Left camera color images"
   ]
  },
  {
   "cell_type": "code",
   "execution_count": null,
   "id": "cf4040e8-7356-43c7-b256-ed5ac306b6d1",
   "metadata": {},
   "outputs": [],
   "source": [
    "!wget https://s3.eu-central-1.amazonaws.com/avg-kitti/data_object_image_2.zip"
   ]
  },
  {
   "cell_type": "markdown",
   "id": "fb425d5b-4d6f-456a-82e6-4405ec37b194",
   "metadata": {},
   "source": [
    "Velodyne point clouds"
   ]
  },
  {
   "cell_type": "code",
   "execution_count": null,
   "id": "56e794da-35c6-4fad-b66d-46af485efcb1",
   "metadata": {},
   "outputs": [],
   "source": [
    "!wget https://s3.eu-central-1.amazonaws.com/avg-kitti/data_object_velodyne.zip"
   ]
  },
  {
   "cell_type": "markdown",
   "id": "06ec3383-de65-44d6-ba3e-b6977bf6f19e",
   "metadata": {},
   "source": [
    "Camera calibration matrices"
   ]
  },
  {
   "cell_type": "code",
   "execution_count": null,
   "id": "4c5e9fbf-459e-4103-8987-b911e1cff2e4",
   "metadata": {},
   "outputs": [],
   "source": [
    "!wget https://s3.eu-central-1.amazonaws.com/avg-kitti/data_object_calib.zip"
   ]
  },
  {
   "cell_type": "markdown",
   "id": "d85ed78e-52c8-40dc-a44d-4ae818b78e1f",
   "metadata": {},
   "source": [
    "Object labels"
   ]
  },
  {
   "cell_type": "code",
   "execution_count": null,
   "id": "69ef3ab3-e893-43c5-bc54-d3d2ab59a7ae",
   "metadata": {},
   "outputs": [],
   "source": [
    "!wget https://s3.eu-central-1.amazonaws.com/avg-kitti/data_object_label_2.zip"
   ]
  },
  {
   "cell_type": "markdown",
   "id": "2bb3396f-1bdc-4238-ab46-68cc04e5ce42",
   "metadata": {},
   "source": [
    "Road planes"
   ]
  },
  {
   "cell_type": "code",
   "execution_count": null,
   "id": "eb26070a-09fe-4c09-b3b5-82aed7c41b3c",
   "metadata": {},
   "outputs": [],
   "source": [
    "!wget https://drive.google.com/file/d/1d5mq0RXRnvHPVeKx6Q612z0YRO1t2wAp/view?usp=sharing"
   ]
  },
  {
   "cell_type": "markdown",
   "id": "ffa66ded-d566-49f6-9e53-990a32ee5879",
   "metadata": {},
   "source": [
    "# Raw Data datasets"
   ]
  },
  {
   "cell_type": "markdown",
   "id": "0cc2a4f5-946a-4b1d-b048-10b4b2508f4f",
   "metadata": {},
   "source": [
    "The commands below download the synced+rectified data, the camera calibration matrices, and the object tracklet XML files."
   ]
  },
  {
   "cell_type": "markdown",
   "id": "a01f00ab-3dc8-4154-bd00-129750fa65d5",
   "metadata": {},
   "source": [
    "The commands will also put the data and the calibration matrices in separate files, so make sure to put them under the same directory after they finish downloading."
   ]
  },
  {
   "cell_type": "markdown",
   "id": "7550e15d-793e-4847-a653-c170e3bb9c52",
   "metadata": {},
   "source": [
    "### 2011_09_26_drive_005"
   ]
  },
  {
   "cell_type": "code",
   "execution_count": null,
   "id": "c4edc78f-4763-4d9e-aa66-c6beeb37845a",
   "metadata": {},
   "outputs": [],
   "source": [
    "!wget https://s3.eu-central-1.amazonaws.com/avg-kitti/raw_data/2011_09_26_drive_0005/2011_09_26_drive_0005_sync.zip"
   ]
  },
  {
   "cell_type": "code",
   "execution_count": null,
   "id": "e0134775-5452-474b-9477-cd24cb14dc8a",
   "metadata": {},
   "outputs": [],
   "source": [
    "!wget https://s3.eu-central-1.amazonaws.com/avg-kitti/raw_data/2011_09_26_calib.zip"
   ]
  },
  {
   "cell_type": "code",
   "execution_count": null,
   "id": "0d5f8052-2496-4f37-9334-7fe8125906f8",
   "metadata": {},
   "outputs": [],
   "source": [
    "!wget https://s3.eu-central-1.amazonaws.com/avg-kitti/raw_data/2011_09_26_drive_0005/2011_09_26_drive_0005_tracklets.zip"
   ]
  },
  {
   "cell_type": "markdown",
   "id": "c1e1f44d-6fe2-4705-bac8-2411b2ea6d6c",
   "metadata": {},
   "source": [
    "### 2011_09_28_drive_0039"
   ]
  },
  {
   "cell_type": "code",
   "execution_count": null,
   "id": "e818f4eb-4471-412f-bbb6-ba71b43dff89",
   "metadata": {},
   "outputs": [],
   "source": [
    "!wget https://s3.eu-central-1.amazonaws.com/avg-kitti/raw_data/2011_09_28_drive_0039/2011_09_26_drive_0005_sync.zip"
   ]
  },
  {
   "cell_type": "code",
   "execution_count": null,
   "id": "6740a408-e215-47c1-a0e2-e2aa7a473e0a",
   "metadata": {},
   "outputs": [],
   "source": [
    "!wget https://s3.eu-central-1.amazonaws.com/avg-kitti/raw_data/2011_09_28_calib.zip"
   ]
  },
  {
   "cell_type": "code",
   "execution_count": null,
   "id": "fb3bf6ed-830c-470c-9370-4cce8822efb5",
   "metadata": {},
   "outputs": [],
   "source": [
    "!wget https://s3.eu-central-1.amazonaws.com/avg-kitti/raw_data/2011_09_26_drive_0005/2011_09_28_drive_0005_tracklets.zip"
   ]
  },
  {
   "cell_type": "markdown",
   "id": "88dcc5fb-4c71-424b-b505-6d7699a95458",
   "metadata": {},
   "source": [
    "### 2011_10_03_drive_0049"
   ]
  },
  {
   "cell_type": "code",
   "execution_count": null,
   "id": "dc6aa529-081e-4bbc-999b-46ff34fb1c2b",
   "metadata": {},
   "outputs": [],
   "source": [
    "!wget https://s3.eu-central-1.amazonaws.com/avg-kitti/raw_data/2011_09_28_drive_0049/2011_09_26_drive_0005_sync.zip"
   ]
  },
  {
   "cell_type": "code",
   "execution_count": null,
   "id": "7111298f-f142-4d99-abe5-054857955242",
   "metadata": {},
   "outputs": [],
   "source": [
    "!wget https://s3.eu-central-1.amazonaws.com/avg-kitti/raw_data/2011_09_28_calib.zip"
   ]
  },
  {
   "cell_type": "code",
   "execution_count": null,
   "id": "349f6554-2b1a-401c-b620-19336189d3f2",
   "metadata": {},
   "outputs": [],
   "source": [
    "!wget https://s3.eu-central-1.amazonaws.com/avg-kitti/raw_data/2011_09_26_drive_0005/2011_09_28_drive_0005_tracklets.zip"
   ]
  }
 ],
 "metadata": {
  "kernelspec": {
   "display_name": "lidar",
   "language": "python",
   "name": "lidar"
  },
  "language_info": {
   "codemirror_mode": {
    "name": "ipython",
    "version": 3
   },
   "file_extension": ".py",
   "mimetype": "text/x-python",
   "name": "python",
   "nbconvert_exporter": "python",
   "pygments_lexer": "ipython3",
   "version": "3.9.13"
  }
 },
 "nbformat": 4,
 "nbformat_minor": 5
}
