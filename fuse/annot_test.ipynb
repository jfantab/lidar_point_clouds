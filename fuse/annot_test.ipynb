{
 "cells": [
  {
   "cell_type": "code",
   "execution_count": 1,
   "id": "289a1950",
   "metadata": {},
   "outputs": [],
   "source": [
    "import numpy as np\n",
    "import cv2"
   ]
  },
  {
   "cell_type": "code",
   "execution_count": 9,
   "id": "a8b385c8",
   "metadata": {},
   "outputs": [],
   "source": [
    "with open(\"2011_09_26/tracklet_labels/000000.txt\") as fp:\n",
    "    line = fp.readlines()[0].strip().split(' ')"
   ]
  },
  {
   "cell_type": "code",
   "execution_count": 11,
   "id": "bb899436",
   "metadata": {},
   "outputs": [
    {
     "data": {
      "text/plain": [
       "['Van',\n",
       " '0',\n",
       " '0',\n",
       " '-1.4443052442338848-2950.0586629613385',\n",
       " '-1144.486383770594',\n",
       " '31169.967673422925',\n",
       " '11842.266973735408',\n",
       " '2',\n",
       " '1.8232554',\n",
       " '4.433885613.701017509034987',\n",
       " '4.571364845086606',\n",
       " '-1.7423590421676636',\n",
       " '0.54469172949168099']"
      ]
     },
     "execution_count": 11,
     "metadata": {},
     "output_type": "execute_result"
    }
   ],
   "source": [
    "line"
   ]
  },
  {
   "cell_type": "code",
   "execution_count": 12,
   "id": "638f8b78",
   "metadata": {},
   "outputs": [
    {
     "data": {
      "text/plain": [
       "['-1144.486383770594', '31169.967673422925', '11842.266973735408', '2']"
      ]
     },
     "execution_count": 12,
     "metadata": {},
     "output_type": "execute_result"
    }
   ],
   "source": [
    "line[4:8]"
   ]
  },
  {
   "cell_type": "code",
   "execution_count": null,
   "id": "3689a880",
   "metadata": {},
   "outputs": [],
   "source": []
  }
 ],
 "metadata": {
  "kernelspec": {
   "display_name": "lidar",
   "language": "python",
   "name": "lidar"
  },
  "language_info": {
   "codemirror_mode": {
    "name": "ipython",
    "version": 3
   },
   "file_extension": ".py",
   "mimetype": "text/x-python",
   "name": "python",
   "nbconvert_exporter": "python",
   "pygments_lexer": "ipython3",
   "version": "3.9.13"
  }
 },
 "nbformat": 4,
 "nbformat_minor": 5
}
