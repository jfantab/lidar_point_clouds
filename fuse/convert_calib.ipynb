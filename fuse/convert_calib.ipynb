{
 "cells": [
  {
   "cell_type": "code",
   "execution_count": 104,
   "id": "e3806ac5",
   "metadata": {},
   "outputs": [],
   "source": [
    "import os\n",
    "from glob import glob\n",
    "\n",
    "import cv2\n",
    "import numpy as np\n",
    "import pandas as pd\n",
    "import matplotlib.pyplot as plt\n",
    "import torch\n",
    "\n",
    "from kitti_utils import *"
   ]
  },
  {
   "cell_type": "markdown",
   "id": "9cb7feda",
   "metadata": {},
   "source": [
    "## Load in Files"
   ]
  },
  {
   "cell_type": "code",
   "execution_count": 105,
   "id": "3724088b",
   "metadata": {},
   "outputs": [],
   "source": [
    "PREFIX = \"../data\"\n",
    "\n",
    "DATE = \"2011_09_26\"\n",
    "ID = \"0005\"\n",
    "\n",
    "DATA_PATH = f\"{PREFIX}/{DATE}/{DATE}_drive_{ID}_sync\"\n",
    "\n",
    "CAMERA_CALIB_FILE = f\"{PREFIX}/{DATE}/calib_cam_to_cam.txt\"\n",
    "\n",
    "VELO_CALIB_FILE = f\"{PREFIX}/{DATE}/calib_velo_to_cam.txt\"\n",
    "\n",
    "IMU_CALIB_FILE = f\"{PREFIX}/{DATE}/calib_imu_to_velo.txt\""
   ]
  },
  {
   "cell_type": "code",
   "execution_count": 106,
   "id": "76c325cb",
   "metadata": {},
   "outputs": [
    {
     "name": "stdout",
     "output_type": "stream",
     "text": [
      "Number of left images: 154\n",
      "Number of right images: 154\n",
      "Number of LiDAR point clouds: 154\n",
      "Number of GPS/IMU frames: 154\n"
     ]
    }
   ],
   "source": [
    "# get RGB camera data\n",
    "left_image_paths = sorted(glob(os.path.join(DATA_PATH, 'image_02/data/*.png')))\n",
    "right_image_paths = sorted(glob(os.path.join(DATA_PATH, 'image_03/data/*.png')))\n",
    "\n",
    "# get LiDAR data\n",
    "bin_paths = sorted(glob(os.path.join(DATA_PATH, 'velodyne_points/data/*.bin')))\n",
    "\n",
    "# get GPS/IMU data\n",
    "oxts_paths = sorted(glob(os.path.join(DATA_PATH, r'oxts/data**/*.txt')))\n",
    "\n",
    "print(f\"Number of left images: {len(left_image_paths)}\")\n",
    "print(f\"Number of right images: {len(right_image_paths)}\")\n",
    "print(f\"Number of LiDAR point clouds: {len(bin_paths)}\")\n",
    "print(f\"Number of GPS/IMU frames: {len(oxts_paths)}\")"
   ]
  },
  {
   "cell_type": "code",
   "execution_count": 107,
   "id": "98ab3095",
   "metadata": {},
   "outputs": [],
   "source": [
    "with open(CAMERA_CALIB_FILE,'r') as f:\n",
    "    calib = f.readlines()"
   ]
  },
  {
   "cell_type": "markdown",
   "id": "0e10845d",
   "metadata": {},
   "source": [
    "## Extract Projection Matrices"
   ]
  },
  {
   "cell_type": "code",
   "execution_count": 108,
   "id": "a10837c8",
   "metadata": {
    "scrolled": false
   },
   "outputs": [],
   "source": [
    "def extract_rect_matrices(calib):\n",
    "    rect_matrices = \"\"\n",
    "    \n",
    "    j = 0\n",
    "    \n",
    "    for i in range(9, len(calib), 8):\n",
    "        P_rect = calib[i].strip().split(':')\n",
    "        P_rect = f\"P{j}: \" + P_rect[1]\n",
    "\n",
    "        rect_matrices += P_rect + \"\\n\"\n",
    "\n",
    "        j += 1\n",
    "    \n",
    "    return rect_matrices"
   ]
  },
  {
   "cell_type": "code",
   "execution_count": 109,
   "id": "713235cc",
   "metadata": {},
   "outputs": [
    {
     "data": {
      "text/plain": [
       "'P0:  7.215377e+02 0.000000e+00 6.095593e+02 0.000000e+00 0.000000e+00 7.215377e+02 1.728540e+02 0.000000e+00 0.000000e+00 0.000000e+00 1.000000e+00 0.000000e+00\\nP1:  7.215377e+02 0.000000e+00 6.095593e+02 -3.875744e+02 0.000000e+00 7.215377e+02 1.728540e+02 0.000000e+00 0.000000e+00 0.000000e+00 1.000000e+00 0.000000e+00\\nP2:  7.215377e+02 0.000000e+00 6.095593e+02 4.485728e+01 0.000000e+00 7.215377e+02 1.728540e+02 2.163791e-01 0.000000e+00 0.000000e+00 1.000000e+00 2.745884e-03\\nP3:  7.215377e+02 0.000000e+00 6.095593e+02 -3.395242e+02 0.000000e+00 7.215377e+02 1.728540e+02 2.199936e+00 0.000000e+00 0.000000e+00 1.000000e+00 2.729905e-03\\n'"
      ]
     },
     "execution_count": 109,
     "metadata": {},
     "output_type": "execute_result"
    }
   ],
   "source": [
    "rect_matrices = extract_rect_matrices(calib)\n",
    "rect_matrices"
   ]
  },
  {
   "cell_type": "markdown",
   "id": "fd25a14d",
   "metadata": {},
   "source": [
    "## Misc"
   ]
  },
  {
   "cell_type": "code",
   "execution_count": 110,
   "id": "fe3817c0",
   "metadata": {},
   "outputs": [],
   "source": [
    "# get projection matrices (rectified left camera --> left camera (u,v,z))\n",
    "P_rect2_cam2 = np.array([float(x) for x in calib[25].strip().split(' ')[1:]]).reshape((3,4))\n",
    "\n",
    "\n",
    "# get rectified rotation matrices (left camera --> rectified left camera)\n",
    "R_ref0_rect2 = np.array([float(x) for x in calib[24].strip().split(' ')[1:]]).reshape((3, 3,))\n",
    "\n",
    "# save the original\n",
    "original_R_ref0_rect2 = R_ref0_rect2\n",
    "\n",
    "# add (0,0,0) translation and convert to homogeneous coordinates\n",
    "R_ref0_rect2 = np.insert(R_ref0_rect2, 3, values=[0,0,0], axis=0)\n",
    "R_ref0_rect2 = np.insert(R_ref0_rect2, 3, values=[0,0,0,1], axis=1)\n",
    "\n",
    "\n",
    "# get rigid transformation from Camera 0 (ref) to Camera 2\n",
    "R_2 = np.array([float(x) for x in calib[21].strip().split(' ')[1:]]).reshape((3,3))\n",
    "t_2 = np.array([float(x) for x in calib[22].strip().split(' ')[1:]]).reshape((3,1))\n",
    "\n",
    "\n",
    "# get cam0 to cam2 rigid body transformation in homogeneous coordinates\n",
    "T_ref0_ref2 = np.insert(np.hstack((R_2, t_2)), 3, values=[0,0,0,1], axis=0)     "
   ]
  },
  {
   "cell_type": "code",
   "execution_count": 111,
   "id": "3fb063ce",
   "metadata": {},
   "outputs": [],
   "source": [
    "T_velo_ref0 = get_rigid_transformation(VELO_CALIB_FILE)\n",
    "T_imu_velo = get_rigid_transformation(IMU_CALIB_FILE)\n",
    "\n",
    "\n",
    "# transform from velo (LiDAR) to left color camera (shape 3x4)\n",
    "T_velo_cam2 = P_rect2_cam2 @ R_ref0_rect2 @ T_ref0_ref2 @ T_velo_ref0\n",
    "\n",
    "\n",
    "# homogeneous transform from left color camera to velo (LiDAR) (shape: 4x4)\n",
    "T_cam2_velo = np.linalg.inv(np.insert(T_velo_cam2, 3, values=[0,0,0,1], axis=0))\n",
    "\n",
    "\n",
    "# transform from IMU to left color camera (shape 3x4)\n",
    "T_imu_cam2 = T_velo_cam2 @ T_imu_velo\n",
    "\n",
    "\n",
    "# homogeneous transform from left color camera to IMU (shape: 4x4)\n",
    "T_cam2_imu = np.linalg.inv(np.insert(T_imu_cam2, 3, values=[0,0,0,1], axis=0)) "
   ]
  },
  {
   "cell_type": "markdown",
   "id": "535aeea3",
   "metadata": {},
   "source": [
    "## Extract Rectified Rotation Matrix"
   ]
  },
  {
   "cell_type": "code",
   "execution_count": 112,
   "id": "f9de2f3f",
   "metadata": {},
   "outputs": [
    {
     "data": {
      "text/plain": [
       "'R0_rect: 0.9998817 0.01511453 -0.002841595 -0.01511724 0.9998853 -0.000933851 0.002827154 0.0009766976 0.9999955\\n'"
      ]
     },
     "execution_count": 112,
     "metadata": {},
     "output_type": "execute_result"
    }
   ],
   "source": [
    "r0_rect = f\"R0_rect: \" + \" \".join([str(ele) for ele in original_R_ref0_rect2.reshape((-1))]) + \"\\n\"\n",
    "\n",
    "r0_rect"
   ]
  },
  {
   "cell_type": "markdown",
   "id": "f6627a5d",
   "metadata": {},
   "source": [
    "## Extract Velo to Cam Transformation"
   ]
  },
  {
   "cell_type": "code",
   "execution_count": 113,
   "id": "fca48e23",
   "metadata": {},
   "outputs": [
    {
     "data": {
      "text/plain": [
       "'Tr_velo_to_cam: 609.695406376067 -721.4215945704468 -1.2512597150460192 -78.39596581299884 180.38420147090642 7.644801418162001 -719.651521810669 -100.98428666361731 0.9999453839058352 0.00012436576507402576 0.010451302653646818 -0.26664102765164976\\n'"
      ]
     },
     "execution_count": 113,
     "metadata": {},
     "output_type": "execute_result"
    }
   ],
   "source": [
    "tr_velo_cam = f\"Tr_velo_to_cam: \" + \" \".join([str(ele) for ele in T_velo_cam2.reshape((-1))]) + \"\\n\"\n",
    "\n",
    "tr_velo_cam"
   ]
  },
  {
   "cell_type": "markdown",
   "id": "0de2c97e",
   "metadata": {},
   "source": [
    "## Extract IMU to Velo Transformation"
   ]
  },
  {
   "cell_type": "code",
   "execution_count": 114,
   "id": "26873ecf",
   "metadata": {},
   "outputs": [
    {
     "data": {
      "text/plain": [
       "'Tr_imu_to_velo: 0.9999976 0.0007553071 -0.002035826 -0.8086759 -0.0007854027 0.9998898 -0.01482298 0.3195559 0.002024406 0.01482454 0.9998881 -0.7997231 0.0 0.0 0.0 1.0\\n'"
      ]
     },
     "execution_count": 114,
     "metadata": {},
     "output_type": "execute_result"
    }
   ],
   "source": [
    "tr_imu_velo = f\"Tr_imu_to_velo: \" + \" \".join([str(ele) for ele in T_imu_velo.reshape((-1))]) + \"\\n\"\n",
    "\n",
    "tr_imu_velo"
   ]
  },
  {
   "cell_type": "markdown",
   "id": "1242cd84",
   "metadata": {},
   "source": [
    "## Write to File"
   ]
  },
  {
   "cell_type": "code",
   "execution_count": 115,
   "id": "46e1d4b7",
   "metadata": {},
   "outputs": [
    {
     "name": "stdout",
     "output_type": "stream",
     "text": [
      "P0:  7.215377e+02 0.000000e+00 6.095593e+02 0.000000e+00 0.000000e+00 7.215377e+02 1.728540e+02 0.000000e+00 0.000000e+00 0.000000e+00 1.000000e+00 0.000000e+00\n",
      "P1:  7.215377e+02 0.000000e+00 6.095593e+02 -3.875744e+02 0.000000e+00 7.215377e+02 1.728540e+02 0.000000e+00 0.000000e+00 0.000000e+00 1.000000e+00 0.000000e+00\n",
      "P2:  7.215377e+02 0.000000e+00 6.095593e+02 4.485728e+01 0.000000e+00 7.215377e+02 1.728540e+02 2.163791e-01 0.000000e+00 0.000000e+00 1.000000e+00 2.745884e-03\n",
      "P3:  7.215377e+02 0.000000e+00 6.095593e+02 -3.395242e+02 0.000000e+00 7.215377e+02 1.728540e+02 2.199936e+00 0.000000e+00 0.000000e+00 1.000000e+00 2.729905e-03\n",
      "R0_rect: 0.9998817 0.01511453 -0.002841595 -0.01511724 0.9998853 -0.000933851 0.002827154 0.0009766976 0.9999955\n",
      "Tr_velo_to_cam: 609.695406376067 -721.4215945704468 -1.2512597150460192 -78.39596581299884 180.38420147090642 7.644801418162001 -719.651521810669 -100.98428666361731 0.9999453839058352 0.00012436576507402576 0.010451302653646818 -0.26664102765164976\n",
      "Tr_imu_to_velo: 0.9999976 0.0007553071 -0.002035826 -0.8086759 -0.0007854027 0.9998898 -0.01482298 0.3195559 0.002024406 0.01482454 0.9998881 -0.7997231 0.0 0.0 0.0 1.0\n",
      "\n"
     ]
    }
   ],
   "source": [
    "output = rect_matrices + r0_rect + tr_velo_cam + tr_imu_velo\n",
    "print(output)"
   ]
  },
  {
   "cell_type": "markdown",
   "id": "e55fcce8",
   "metadata": {},
   "source": [
    "## Populate the Folder"
   ]
  },
  {
   "cell_type": "code",
   "execution_count": 116,
   "id": "e677f767",
   "metadata": {},
   "outputs": [],
   "source": [
    "for i in range(len(bin_paths)):\n",
    "    with open(f\"{PREFIX}/new_point_clouds/training/calib/{str(i).zfill(6)}.txt\", \"w\") as fp:\n",
    "        fp.write(output)"
   ]
  },
  {
   "cell_type": "code",
   "execution_count": null,
   "id": "78132975",
   "metadata": {},
   "outputs": [],
   "source": []
  }
 ],
 "metadata": {
  "kernelspec": {
   "display_name": "lidar",
   "language": "python",
   "name": "lidar"
  },
  "language_info": {
   "codemirror_mode": {
    "name": "ipython",
    "version": 3
   },
   "file_extension": ".py",
   "mimetype": "text/x-python",
   "name": "python",
   "nbconvert_exporter": "python",
   "pygments_lexer": "ipython3",
   "version": "3.9.13"
  }
 },
 "nbformat": 4,
 "nbformat_minor": 5
}
