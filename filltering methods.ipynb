{
 "cells": [
  {
   "cell_type": "code",
   "execution_count": 5,
   "metadata": {},
   "outputs": [],
   "source": [
    "import open3d as o3d"
   ]
  },
  {
   "cell_type": "code",
   "execution_count": 6,
   "metadata": {},
   "outputs": [],
   "source": [
    "pcd = o3d.io.read_point_cloud(\"viewPoints.pcd\")"
   ]
  },
  {
   "cell_type": "code",
   "execution_count": 7,
   "metadata": {},
   "outputs": [
    {
     "name": "stdout",
     "output_type": "stream",
     "text": [
      "Filtering complete. The filtered point cloud is saved as 'filtered_point_cloud.pcd'.\n"
     ]
    }
   ],
   "source": [
    "# Voxel downsampling\n",
    "voxel_down_pcd = pcd.voxel_down_sample(voxel_size=0.1)\n",
    "\n",
    "    # Statistical outlier removal\n",
    "clean_pcd, ind = voxel_down_pcd.remove_statistical_outlier(nb_neighbors=50, std_ratio=1.0)\n",
    "\n",
    "    # Pass-through filter (assuming filtering on z-axis)\n",
    "pass_through_filter = clean_pcd.crop(\n",
    "        o3d.geometry.AxisAlignedBoundingBox(min_bound=(-float('inf'), -float('inf'), 0.0),\n",
    "                                            max_bound=(float('inf'), float('inf'), 1.5)))\n",
    "\n",
    "    # Save the final point cloud\n",
    "o3d.io.write_point_cloud(\"filtered_point_cloud.pcd\", pass_through_filter)\n",
    "\n",
    "print(\"Filtering complete. The filtered point cloud is saved as 'filtered_point_cloud.pcd'.\")"
   ]
  },
  {
   "cell_type": "code",
   "execution_count": 8,
   "metadata": {},
   "outputs": [
    {
     "name": "stdout",
     "output_type": "stream",
     "text": [
      "\u001b[1;33m[Open3D WARNING] GLFW Error: Cocoa: Failed to find service port for display\u001b[0;m\n",
      "\u001b[1;33m[Open3D WARNING] GLFW Error: Cocoa: Failed to find service port for display\u001b[0;m\n"
     ]
    }
   ],
   "source": [
    "o3d.visualization.draw_geometries([pass_through_filter])"
   ]
  },
  {
   "cell_type": "code",
   "execution_count": 19,
   "metadata": {},
   "outputs": [
    {
     "name": "stdout",
     "output_type": "stream",
     "text": [
      "\n",
      "\n",
      "Applying Filter\n",
      "Number of points before filtering: 112766\n",
      "Number of points after filtering: 62199\n",
      "Filtering complete. The filtered point cloud is saved as 'filtered_viewPoints.pcd'.\n"
     ]
    }
   ],
   "source": [
    "import open3d as o3d\n",
    "import numpy as np\n",
    "\n",
    "def apply_frustum_culling(point_cloud, camera_pose, fov, near_plane, far_plane):\n",
    "    print(\"\\n\\nApplying Filter\")\n",
    "\n",
    "    # Convert FOV from degrees to radians and calculate half-angle\n",
    "    fov_rad = np.deg2rad(fov)\n",
    "    half_angle = fov_rad / 2\n",
    "\n",
    "    # Calculate frustum bounds\n",
    "    points = np.asarray(point_cloud.points)\n",
    "    directions = points - camera_pose[:3, 3]  # vector from camera to point\n",
    "    distances = np.linalg.norm(directions, axis=1)\n",
    "    directions_normalized = directions / distances[:, np.newaxis]\n",
    "\n",
    "    # Calculate angle with the camera forward vector (z-axis)\n",
    "    cos_angle = np.dot(directions_normalized, camera_pose[:3, 2])\n",
    "    angles = np.arccos(np.clip(cos_angle, -1.0, 1.0))  # Clipping values to valid range for acos\n",
    "\n",
    "    # Filter points within frustum\n",
    "    mask = (angles < half_angle) & (distances > near_plane) & (distances < far_plane)\n",
    "    filtered_points = points[mask]\n",
    "    print(f\"Number of points before filtering: {len(points)}\")\n",
    "    print(f\"Number of points after filtering: {len(filtered_points)}\")\n",
    "\n",
    "    filtered_cloud = o3d.geometry.PointCloud()\n",
    "    filtered_cloud.points = o3d.utility.Vector3dVector(filtered_points)\n",
    "\n",
    "    return filtered_cloud\n",
    "\n",
    "def main():\n",
    "    # Load a point cloud\n",
    "    cloud = o3d.io.read_point_cloud(\"viewPoints.pcd\")\n",
    "\n",
    "    # Compute centroid and set the camera to look at the centroid\n",
    "    centroid = cloud.get_center()\n",
    "    camera_pose = np.eye(4)\n",
    "    camera_pose[:3, 3] = centroid + np.array([0, 0, -10])  # Position camera 10 units along the z-axis from the centroid\n",
    "\n",
    "    # Frustum parameters\n",
    "    fov = 100  # Wide field of view\n",
    "    near_plane = 1.0  # Near clipping plane\n",
    "    far_plane = 1000  # Far clipping plane\n",
    "\n",
    "    # Apply frustum culling\n",
    "    filtered_cloud = apply_frustum_culling(cloud, camera_pose, fov, near_plane, far_plane)\n",
    "\n",
    "    # Save the filtered point cloud\n",
    "    if not filtered_cloud.is_empty():\n",
    "        o3d.io.write_point_cloud(\"filtered_viewPoints.pcd\", filtered_cloud)\n",
    "        print(\"Filtering complete. The filtered point cloud is saved as 'filtered_viewPoints.pcd'.\")\n",
    "    else:\n",
    "        print(\"No points left after filtering; check the camera pose and frustum parameters.\")\n",
    "    \n",
    "    return filtered_cloud\n",
    "\n",
    "if __name__ == \"__main__\":\n",
    "    x=main()\n"
   ]
  },
  {
   "cell_type": "code",
   "execution_count": null,
   "metadata": {},
   "outputs": [],
   "source": [
    "o3d.visualization.draw_geometries([x])"
   ]
  }
 ],
 "metadata": {
  "kernelspec": {
   "display_name": "Python 3",
   "language": "python",
   "name": "python3"
  },
  "language_info": {
   "codemirror_mode": {
    "name": "ipython",
    "version": 3
   },
   "file_extension": ".py",
   "mimetype": "text/x-python",
   "name": "python",
   "nbconvert_exporter": "python",
   "pygments_lexer": "ipython3",
   "version": "3.6.8"
  }
 },
 "nbformat": 4,
 "nbformat_minor": 2
}
